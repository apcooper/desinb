{
 "cells": [
  {
   "cell_type": "code",
   "execution_count": 43,
   "metadata": {
    "collapsed": true
   },
   "outputs": [],
   "source": [
    "import numpy as np\n",
    "import astropy\n",
    "import matplotlib.pyplot as plt\n",
    "import os\n",
    "import astropy.io.fits as fits\n",
    "from astropy.table import Table, Column\n",
    "from desitarget import desi_mask, bgs_mask, mws_mask, contam_mask, obsmask\n",
    "from desiutil.plots import prepare_data, init_sky, plot_sky_circles, plot_sky_binned\n",
    "from desiutil.log import get_logger\n",
    "import warnings\n",
    "import mpl_toolkits\n",
    "%matplotlib inline"
   ]
  },
  {
   "cell_type": "code",
   "execution_count": 2,
   "metadata": {
    "collapsed": true
   },
   "outputs": [],
   "source": [
    "import desisurvey\n",
    "import desisurvey.ephemerides"
   ]
  },
  {
   "cell_type": "code",
   "execution_count": 7,
   "metadata": {
    "collapsed": true
   },
   "outputs": [],
   "source": [
    "topdir = os.path.join(\"/global/cscratch1/sd/forero/quicksurvey2017b/\")"
   ]
  },
  {
   "cell_type": "code",
   "execution_count": 8,
   "metadata": {
    "collapsed": false
   },
   "outputs": [
    {
     "name": "stdout",
     "output_type": "stream",
     "text": [
      "\u001b[0m\u001b[01;32mcommands.sh\u001b[0m*   \u001b[01;34mfiberassign\u001b[0m/      \u001b[01;34msurvey\u001b[0m/   \u001b[01;34mzcat\u001b[0m/\r\n",
      "\u001b[01;32mcommands.sh~\u001b[0m*  \u001b[01;32mfiberassign.log\u001b[0m*  \u001b[01;34mtargets\u001b[0m/\r\n"
     ]
    }
   ],
   "source": [
    "ls $topdir"
   ]
  },
  {
   "cell_type": "markdown",
   "metadata": {},
   "source": [
    "# MWS Results"
   ]
  },
  {
   "cell_type": "code",
   "execution_count": null,
   "metadata": {
    "collapsed": true
   },
   "outputs": [],
   "source": [
    "!ls -lhtr $topdir/zcat/bright/34/zcat.fits"
   ]
  },
  {
   "cell_type": "code",
   "execution_count": 11,
   "metadata": {
    "collapsed": false
   },
   "outputs": [],
   "source": [
    "zcat_path = '{topdir}/zcat/bright/34/zcat.fits'.format(topdir=topdir)\n",
    "zcat = Table.read(zcat_path)"
   ]
  },
  {
   "cell_type": "code",
   "execution_count": 12,
   "metadata": {
    "collapsed": false
   },
   "outputs": [
    {
     "name": "stdout",
     "output_type": "stream",
     "text": [
      "17095205\n",
      "10668205\n"
     ]
    },
    {
     "data": {
      "text/plain": [
       "27763410"
      ]
     },
     "execution_count": 12,
     "metadata": {},
     "output_type": "execute_result"
    }
   ],
   "source": [
    "print((zcat['SPECTYPE'] == 'GALAXY').sum())\n",
    "print((zcat['SPECTYPE'] == 'STAR').sum())\n",
    "len(zcat)"
   ]
  },
  {
   "cell_type": "code",
   "execution_count": 13,
   "metadata": {
    "collapsed": false
   },
   "outputs": [
    {
     "data": {
      "text/html": [
       "&lt;Table length=3&gt;\n",
       "<table id=\"table47147349128248\" class=\"table-striped table-bordered table-condensed\">\n",
       "<thead><tr><th>TARGETID</th><th>BRICKNAME</th><th>SPECTYPE</th><th>Z</th><th>ZERR</th><th>ZWARN</th><th>NUMOBS</th></tr></thead>\n",
       "<thead><tr><th>int64</th><th>str8</th><th>str10</th><th>float32</th><th>float32</th><th>int32</th><th>int32</th></tr></thead>\n",
       "<tr><td>288230376151711750</td><td></td><td>GALAXY</td><td>0.248714</td><td>5.41471e-05</td><td>0</td><td>3</td></tr>\n",
       "<tr><td>288230376151711759</td><td></td><td>GALAXY</td><td>0.235782</td><td>5.35852e-05</td><td>0</td><td>1</td></tr>\n",
       "<tr><td>288230376151711760</td><td></td><td>GALAXY</td><td>0.220773</td><td>5.29372e-05</td><td>0</td><td>1</td></tr>\n",
       "</table>"
      ],
      "text/plain": [
       "<Table length=3>\n",
       "     TARGETID      BRICKNAME SPECTYPE    Z         ZERR    ZWARN NUMOBS\n",
       "      int64           str8    str10   float32    float32   int32 int32 \n",
       "------------------ --------- -------- -------- ----------- ----- ------\n",
       "288230376151711750             GALAXY 0.248714 5.41471e-05     0      3\n",
       "288230376151711759             GALAXY 0.235782 5.35852e-05     0      1\n",
       "288230376151711760             GALAXY 0.220773 5.29372e-05     0      1"
      ]
     },
     "execution_count": 13,
     "metadata": {},
     "output_type": "execute_result"
    }
   ],
   "source": [
    "zcat[0:3]"
   ]
  },
  {
   "cell_type": "markdown",
   "metadata": {},
   "source": [
    "# Survey Schedule"
   ]
  },
  {
   "cell_type": "code",
   "execution_count": 14,
   "metadata": {
    "collapsed": false
   },
   "outputs": [
    {
     "name": "stdout",
     "output_type": "stream",
     "text": [
      "\u001b[0m\u001b[01;32mconfig.yaml\u001b[0m*                       \u001b[01;32mplan_2024-09-05.fits\u001b[0m*\r\n",
      "\u001b[01;32mephem_2019-12-01_2024-11-30.fits\u001b[0m*  \u001b[01;32mprogress.fits\u001b[0m*\r\n",
      "\u001b[01;32mexposures.fits\u001b[0m*                    \u001b[01;32mprogress_2020-05-12.fits\u001b[0m*\r\n",
      "\u001b[01;32mexposures_bright.fits\u001b[0m*             \u001b[01;32mprogress_2020-05-20.fits\u001b[0m*\r\n",
      "\u001b[01;32mexposures_dark.fits\u001b[0m*               \u001b[01;32mprogress_2020-05-29.fits\u001b[0m*\r\n",
      "\u001b[01;32mfiberassign_dates_bright.txt\u001b[0m*      \u001b[01;32mprogress_2020-06-27.fits\u001b[0m*\r\n",
      "\u001b[01;32mfiberassign_dates_dark.txt\u001b[0m*        \u001b[01;32mprogress_2020-10-16.fits\u001b[0m*\r\n",
      "\u001b[01;32mlast_date.txt\u001b[0m*                     \u001b[01;32mprogress_2020-11-06.fits\u001b[0m*\r\n",
      "\u001b[01;32mplan.fits\u001b[0m*                         \u001b[01;32mprogress_2021-03-04.fits\u001b[0m*\r\n",
      "\u001b[01;32mplan_2020-05-12.fits\u001b[0m*              \u001b[01;32mprogress_2021-04-01.fits\u001b[0m*\r\n",
      "\u001b[01;32mplan_2020-05-20.fits\u001b[0m*              \u001b[01;32mprogress_2021-05-01.fits\u001b[0m*\r\n",
      "\u001b[01;32mplan_2020-05-29.fits\u001b[0m*              \u001b[01;32mprogress_2021-05-13.fits\u001b[0m*\r\n",
      "\u001b[01;32mplan_2020-06-27.fits\u001b[0m*              \u001b[01;32mprogress_2021-05-16.fits\u001b[0m*\r\n",
      "\u001b[01;32mplan_2020-10-16.fits\u001b[0m*              \u001b[01;32mprogress_2021-11-07.fits\u001b[0m*\r\n",
      "\u001b[01;32mplan_2020-11-06.fits\u001b[0m*              \u001b[01;32mprogress_2022-01-14.fits\u001b[0m*\r\n",
      "\u001b[01;32mplan_2021-03-04.fits\u001b[0m*              \u001b[01;32mprogress_2022-01-27.fits\u001b[0m*\r\n",
      "\u001b[01;32mplan_2021-04-01.fits\u001b[0m*              \u001b[01;32mprogress_2022-03-26.fits\u001b[0m*\r\n",
      "\u001b[01;32mplan_2021-05-01.fits\u001b[0m*              \u001b[01;32mprogress_2022-05-10.fits\u001b[0m*\r\n",
      "\u001b[01;32mplan_2021-05-13.fits\u001b[0m*              \u001b[01;32mprogress_2022-05-27.fits\u001b[0m*\r\n",
      "\u001b[01;32mplan_2021-05-16.fits\u001b[0m*              \u001b[01;32mprogress_2022-07-06.fits\u001b[0m*\r\n",
      "\u001b[01;32mplan_2021-11-07.fits\u001b[0m*              \u001b[01;32mprogress_2022-09-05.fits\u001b[0m*\r\n",
      "\u001b[01;32mplan_2022-01-14.fits\u001b[0m*              \u001b[01;32mprogress_2022-11-04.fits\u001b[0m*\r\n",
      "\u001b[01;32mplan_2022-01-27.fits\u001b[0m*              \u001b[01;32mprogress_2023-03-17.fits\u001b[0m*\r\n",
      "\u001b[01;32mplan_2022-03-26.fits\u001b[0m*              \u001b[01;32mprogress_2023-03-29.fits\u001b[0m*\r\n",
      "\u001b[01;32mplan_2022-05-10.fits\u001b[0m*              \u001b[01;32mprogress_2023-09-08.fits\u001b[0m*\r\n",
      "\u001b[01;32mplan_2022-05-27.fits\u001b[0m*              \u001b[01;32mprogress_2024-03-02.fits\u001b[0m*\r\n",
      "\u001b[01;32mplan_2022-07-06.fits\u001b[0m*              \u001b[01;32mprogress_2024-05-05.fits\u001b[0m*\r\n",
      "\u001b[01;32mplan_2022-09-05.fits\u001b[0m*              \u001b[01;32mprogress_2024-06-07.fits\u001b[0m*\r\n",
      "\u001b[01;32mplan_2022-11-04.fits\u001b[0m*              \u001b[01;32mprogress_2024-08-29.fits\u001b[0m*\r\n",
      "\u001b[01;32mplan_2023-03-17.fits\u001b[0m*              \u001b[01;32mprogress_2024-09-05.fits\u001b[0m*\r\n",
      "\u001b[01;32mplan_2023-03-29.fits\u001b[0m*              \u001b[01;32mscheduler.fits\u001b[0m*\r\n",
      "\u001b[01;32mplan_2023-09-08.fits\u001b[0m*              \u001b[01;32mstats.fits\u001b[0m*\r\n",
      "\u001b[01;32mplan_2024-03-02.fits\u001b[0m*              \u001b[01;32msurveyinit.fits\u001b[0m*\r\n",
      "\u001b[01;32mplan_2024-05-05.fits\u001b[0m*              \u001b[01;32msurveysim_baseline.sh\u001b[0m*\r\n",
      "\u001b[01;32mplan_2024-06-07.fits\u001b[0m*              \u001b[01;32mweather_123.fits\u001b[0m*\r\n",
      "\u001b[01;32mplan_2024-08-29.fits\u001b[0m*\r\n"
     ]
    }
   ],
   "source": [
    "ls $topdir/survey"
   ]
  },
  {
   "cell_type": "markdown",
   "metadata": {},
   "source": [
    "There are 35 epochs in this survey: one of 6 months at the start, then (almost) every month thereafter."
   ]
  },
  {
   "cell_type": "code",
   "execution_count": 15,
   "metadata": {
    "collapsed": false
   },
   "outputs": [
    {
     "name": "stdout",
     "output_type": "stream",
     "text": [
      "35 /global/cscratch1/sd/forero/quicksurvey2017b//survey/fiberassign_dates_bright.txt\n",
      "2019-12-01\n",
      "2020-06-05\n",
      "2020-07-04\n",
      "2020-08-02\n",
      "2020-10-01\n",
      "2020-10-30\n",
      "2020-11-29\n",
      "2020-12-29\n",
      "2021-01-27\n",
      "2021-03-27\n",
      "2021-04-26\n",
      "2021-05-25\n",
      "2021-06-23\n",
      "2021-07-23\n",
      "2021-09-20\n",
      "2021-10-19\n",
      "2021-11-18\n",
      "2021-12-18\n",
      "2022-01-17\n",
      "2022-03-17\n",
      "2022-04-15\n",
      "2022-05-15\n",
      "2022-06-13\n",
      "2022-07-12\n",
      "2022-09-09\n",
      "2022-10-09\n",
      "2022-11-07\n",
      "2022-12-07\n",
      "2023-01-06\n",
      "2023-03-06\n",
      "2023-04-05\n",
      "2023-05-04\n",
      "2023-06-03\n",
      "2023-07-02\n",
      "2023-07-31\n"
     ]
    }
   ],
   "source": [
    "!wc -l $topdir/survey/fiberassign_dates_bright.txt\n",
    "!cat $topdir/survey/fiberassign_dates_bright.txt"
   ]
  },
  {
   "cell_type": "code",
   "execution_count": 16,
   "metadata": {
    "collapsed": true
   },
   "outputs": [],
   "source": [
    "our_ephem = Table.read(\"{topdir}/survey/ephem_2019-12-01_2024-11-30.fits\".format(topdir=topdir))\n",
    "weather   = Table.read(\"{topdir}/survey/weather_123.fits\".format(topdir=topdir))\n",
    "plan      = Table.read(\"{topdir}/survey/plan.fits\".format(topdir=topdir))\n",
    "exposures = Table.read(\"{topdir}/survey/exposures_bright.fits\".format(topdir=topdir))\n",
    "stats     = Table.read(\"{topdir}/survey/stats.fits\".format(topdir=topdir))"
   ]
  },
  {
   "cell_type": "markdown",
   "metadata": {},
   "source": [
    "## Twilight time"
   ]
  },
  {
   "cell_type": "code",
   "execution_count": 18,
   "metadata": {
    "collapsed": false
   },
   "outputs": [
    {
     "data": {
      "text/plain": [
       "597"
      ]
     },
     "execution_count": 18,
     "metadata": {},
     "output_type": "execute_result"
    }
   ],
   "source": [
    "len(np.unique(exposures['night']))"
   ]
  },
  {
   "cell_type": "code",
   "execution_count": 19,
   "metadata": {
    "collapsed": false
   },
   "outputs": [
    {
     "data": {
      "text/html": [
       "&lt;Table length=2&gt;\n",
       "<table id=\"table47147349235752\" class=\"table-striped table-bordered table-condensed\">\n",
       "<thead><tr><th>noon</th><th>dusk</th><th>dawn</th><th>brightdusk</th><th>brightdawn</th><th>moonrise</th><th>moonset</th><th>moon_illum_frac</th><th>brightstart</th><th>brightstop</th><th>moon_ra [25]</th><th>moon_dec [25]</th><th>mars_ra [25]</th><th>mars_dec [25]</th><th>jupiter_ra [25]</th><th>jupiter_dec [25]</th><th>venus_ra [25]</th><th>venus_dec [25]</th><th>uranus_ra [25]</th><th>uranus_dec [25]</th><th>saturn_ra [25]</th><th>saturn_dec [25]</th><th>neptune_ra [25]</th><th>neptune_dec [25]</th></tr></thead>\n",
       "<thead><tr><th>float64</th><th>float64</th><th>float64</th><th>float64</th><th>float64</th><th>float64</th><th>float64</th><th>float64</th><th>float64</th><th>float64</th><th>float64</th><th>float64</th><th>float64</th><th>float64</th><th>float64</th><th>float64</th><th>float64</th><th>float64</th><th>float64</th><th>float64</th><th>float64</th><th>float64</th><th>float64</th><th>float64</th></tr></thead>\n",
       "<tr><td>58818.7916667</td><td>58819.0648814</td><td>58819.5402392</td><td>58819.0580229</td><td>58819.5471045</td><td>58818.7738772</td><td>58819.2214304</td><td>0.315489669913</td><td>58819.2916667</td><td>58819.2916667</td><td>315.855105756 .. 328.313405912</td><td>-20.5423307847 .. -17.539536838</td><td>216.065378304 .. 216.708564259</td><td>-13.6575110791 .. -13.8767281034</td><td>269.764817088 .. 270.006987866</td><td>-23.2989208847 .. -23.3008047723</td><td>277.879049509 .. 279.241556201</td><td>-24.7291091375 .. -24.6841840177</td><td>31.2658515215 .. 31.236328578</td><td>12.1393935297 .. 12.1293820506</td><td>289.554894854 .. 289.663373708</td><td>-22.1289755824 .. -22.1167690065</td><td>347.457148572 .. 347.459515781</td><td>-6.50614868175 .. -6.50467317316</td></tr>\n",
       "<tr><td>58819.7916667</td><td>58820.0649029</td><td>58820.5407486</td><td>58820.0580377</td><td>58820.5476203</td><td>58819.8006318</td><td>58820.2601936</td><td>0.407848006491</td><td>58820.2916667</td><td>58820.2916667</td><td>328.313405912 .. 340.121507654</td><td>-17.539536838 .. -13.8899876705</td><td>216.708564259 .. 217.353268758</td><td>-13.8767281034 .. -14.0943427305</td><td>270.006987866 .. 270.249789827</td><td>-23.3008047723 .. -23.3023052641</td><td>279.241556201 .. 280.602584172</td><td>-24.6841840177 .. -24.6267600112</td><td>31.236328578 .. 31.2073609524</td><td>12.1293820506 .. 12.1195694614</td><td>289.663373708 .. 289.772672548</td><td>-22.1167690065 .. -22.1043796725</td><td>347.459515781 .. 347.462410248</td><td>-6.50467317316 .. -6.5029759855</td></tr>\n",
       "</table>"
      ],
      "text/plain": [
       "<Table length=2>\n",
       "     noon          dusk     ...         neptune_dec [25]        \n",
       "   float64       float64    ...             float64             \n",
       "------------- ------------- ... --------------------------------\n",
       "58818.7916667 58819.0648814 ... -6.50614868175 .. -6.50467317316\n",
       "58819.7916667 58820.0649029 ...  -6.50467317316 .. -6.5029759855"
      ]
     },
     "execution_count": 19,
     "metadata": {},
     "output_type": "execute_result"
    }
   ],
   "source": [
    "our_ephem[0:2]"
   ]
  },
  {
   "cell_type": "code",
   "execution_count": 83,
   "metadata": {
    "collapsed": false
   },
   "outputs": [
    {
     "name": "stdout",
     "output_type": "stream",
     "text": [
      " N [1 1 1 1 4 4 4 4 4 4 4 4 4 4 5 5 5 5 5 5]\n",
      "BT [1 1 1 1 4 4 4 4 4 4 4 4 4 4 5 5 5 5 5 5]\n",
      " T [0 1 1 1 3 4 4 4 4 4 4 4 4 4 4 5 5 5 5 5]\n",
      "B0 [0 0 1 1 3 3 3 3 3 3 3 4 4 4 4 5 5 5 5 5]\n",
      "B1 [0 0 1 1 3 3 3 3 3 3 3 4 4 4 4 4 4 4 4 4]\n",
      " D [0 0 0 0 3 3 3 3 3 3 3 3 3 4 4 4 4 4 4 4]\n",
      "BD [0 0 0 0 3 3 3 3 3 3 3 3 3 3 4 4 4 4 4 4]\n"
     ]
    }
   ],
   "source": [
    "# This illustrates the logic used in the follow cell\n",
    "\n",
    "inoon     = our_ephem['noon'].searchsorted(exposures['mjd'],side='left')\n",
    "ibdusk    = our_ephem['brightdusk'].searchsorted(exposures['mjd'],side='left')\n",
    "idusk     = our_ephem['dusk'].searchsorted(exposures['mjd'],side='left')\n",
    "idawn     = our_ephem['dawn'].searchsorted(exposures['mjd'],side='left')\n",
    "ibdawn    = our_ephem['brightdawn'].searchsorted(exposures['mjd'],side='left')\n",
    "ibtstart  = our_ephem['brightstart'].searchsorted(exposures['mjd'],side='left')\n",
    "ibtstop   = our_ephem['brightstop'].searchsorted(exposures['mjd'],side='left')\n",
    "\n",
    "slc = slice(0,20)\n",
    "print(' N',inoon[slc])\n",
    "print('BT',ibdusk[slc])\n",
    "print(' T',idusk[slc])\n",
    "print('B0',ibtstart[slc])\n",
    "print('B1',ibtstop[slc])\n",
    "print(' D',idawn[slc])\n",
    "print('BD',ibdawn[slc])"
   ]
  },
  {
   "cell_type": "code",
   "execution_count": 92,
   "metadata": {
    "collapsed": true
   },
   "outputs": [],
   "source": [
    "def report_bright_exposures(exposures,our_ephem):\n",
    "    \"\"\"\n",
    "    \"\"\"\n",
    "    inoon     = our_ephem['noon'].searchsorted(exposures['mjd'],side='left')\n",
    "    ibdusk    = our_ephem['brightdusk'].searchsorted(exposures['mjd'],side='left')\n",
    "    idusk     = our_ephem['dusk'].searchsorted(exposures['mjd'],side='left')\n",
    "    idawn     = our_ephem['dawn'].searchsorted(exposures['mjd'],side='left')\n",
    "    ibdawn    = our_ephem['brightdawn'].searchsorted(exposures['mjd'],side='left')\n",
    "    ibtstart  = our_ephem['brightstart'].searchsorted(exposures['mjd'],side='left')\n",
    "    ibtstop   = our_ephem['brightstop'].searchsorted(exposures['mjd'],side='left')\n",
    "\n",
    "    is_btp              = (ibtstart == inoon) & (ibtstart > ibtstop)\n",
    "\n",
    "    # Time on the twilight program\n",
    "    \n",
    "    is_bright_dusk      = (ibdusk   == inoon) & (ibdusk   > idusk)\n",
    "    is_dusk             = (idusk    == inoon) & (ibdusk  == idusk) & ~is_btp\n",
    "    is_dawn             = (idawn    == inoon) & (ibdawn   < idawn) & ~is_btp\n",
    "    is_bright_dawn      = (ibdawn   == inoon) & (ibdawn  == idawn)\n",
    "\n",
    "    # Time on the standard bright time program\n",
    "    \n",
    "    # brightstart and brightstop have to be between dusk and dawn; they correspond to the\n",
    "    # period over which bright (moon) conditions prevail on an otherwise dark night.\n",
    "\n",
    "    is_btp_dusk             = (idusk    == inoon) & (ibdusk  == idusk) & is_btp\n",
    "    is_btp_dawn             = (idawn    == inoon) & (ibdawn   < idawn) & is_btp\n",
    "    \n",
    "    # Grey definition:\n",
    "    # max_moon_illumination: 0.6\n",
    "    # max_moon_illumination_altitude_product: 30 deg\n",
    "\n",
    "    print('Total exposure time (hrs): %-5.2f'%(exposures['exptime'].sum()/3600.0))\n",
    "    print()\n",
    "    print('Bright dusk:     %-5.2f'%(exposures['exptime'][is_bright_dusk].sum()/3600.0))\n",
    "    print('Dusk:            %-5.2f'%(exposures['exptime'][is_dusk].sum()/3600.0))\n",
    "    print('Bright Night:    %-5.2f'%(exposures['exptime'][is_btp].sum()/3600.0))\n",
    "    print('Dawn:            %-5.2f'%(exposures['exptime'][is_dawn].sum()/3600.0))\n",
    "    print('Bright dawn:     %-5.2f'%(exposures['exptime'][is_bright_dawn].sum()/3600.0))\n",
    "    \n",
    "    total_hours = exposures['exptime'][is_bright_dusk | is_dusk | is_btp | is_dawn | is_bright_dawn].sum()/3600.0\n",
    "    print('Sum:             %-5.2f'%(total_hours))\n",
    "    print()\n",
    "\n",
    "    supertwilight_hours_off_btp = exposures['exptime'][(is_bright_dusk | is_bright_dawn)].sum()/3600.0\n",
    "    twilight_hours_off_btp      = exposures['exptime'][(is_dusk | is_dawn)].sum()/3600.0\n",
    "\n",
    "    # The BTP is time that would be dark if it weren't for the Moon.\n",
    "    print('Fractions of total bright time in twilight:')\n",
    "    print('Bright twilight: %f'%(supertwilight_hours_off_btp/total_hours))\n",
    "    print('Normal twilight: %f'%(twilight_hours_off_btp/total_hours))\n",
    "    \n",
    "    print('Example bright night exposure:')\n",
    "    return exposures[is_btp][0]"
   ]
  },
  {
   "cell_type": "code",
   "execution_count": 93,
   "metadata": {
    "collapsed": false
   },
   "outputs": [
    {
     "name": "stdout",
     "output_type": "stream",
     "text": [
      "Total exposure time (hrs): 1141.42\n",
      "\n",
      "Bright dusk:     85.57\n",
      "Dusk:            362.95\n",
      "Bright Night:    692.90\n",
      "Dawn:            11.31\n",
      "Bright dawn:     0.00 \n",
      "Sum:             1141.42\n",
      "\n",
      "Fractions of total bright time in twilight:\n",
      "Bright twilight: 0.074969\n",
      "Normal twilight: 0.317982\n",
      "Example bright night exposure:\n"
     ]
    },
    {
     "data": {
      "text/html": [
       "&lt;Row index=0&gt;\n",
       "<table id=\"table47147400992192\">\n",
       "<thead><tr><th>tileid</th><th>pass</th><th>ra</th><th>dec</th><th>ebmv</th><th>night</th><th>mjd</th><th>exptime</th><th>seeing</th><th>transparency</th><th>airmass</th><th>moonfrac</th><th>moonalt</th><th>moonsep</th></tr></thead>\n",
       "<thead><tr><th></th><th></th><th></th><th></th><th></th><th></th><th></th><th>s</th><th>arcsec</th><th></th><th></th><th></th><th>deg</th><th>deg</th></tr></thead>\n",
       "<thead><tr><th>int32</th><th>int16</th><th>float64</th><th>float64</th><th>float32</th><th>str10</th><th>float64</th><th>float64</th><th>float64</th><th>float64</th><th>float64</th><th>float64</th><th>float64</th><th>float64</th></tr></thead>\n",
       "<tr><td>29328</td><td>5</td><td>310.82</td><td>3.13</td><td>0.100719</td><td>2019-12-05</td><td>58823.0691707</td><td>1155.3161807</td><td>1.08484399319</td><td>0.952788949013</td><td>1.40384973915</td><td>0.686054301478</td><td>50.1931863269</td><td>54.6094808007</td></tr>\n",
       "</table>"
      ],
      "text/plain": [
       "<Row index=0>\n",
       "tileid  pass    ra     dec     ebmv     night         mjd        exptime        seeing     transparency     airmass       moonfrac       moonalt       moonsep   \n",
       "                                                                    s           arcsec                                                     deg           deg     \n",
       "int32  int16 float64 float64 float32    str10       float64      float64       float64       float64        float64       float64        float64       float64   \n",
       "------ ----- ------- ------- -------- ---------- ------------- ------------ ------------- -------------- ------------- -------------- ------------- -------------\n",
       " 29328     5  310.82    3.13 0.100719 2019-12-05 58823.0691707 1155.3161807 1.08484399319 0.952788949013 1.40384973915 0.686054301478 50.1931863269 54.6094808007"
      ]
     },
     "execution_count": 93,
     "metadata": {},
     "output_type": "execute_result"
    }
   ],
   "source": [
    "exposures_bright = Table.read(\"{topdir}/survey/exposures_bright.fits\".format(topdir=topdir))\n",
    "report_bright_exposures(exposures_bright,our_ephem)"
   ]
  },
  {
   "cell_type": "code",
   "execution_count": 94,
   "metadata": {
    "collapsed": false
   },
   "outputs": [
    {
     "name": "stdout",
     "output_type": "stream",
     "text": [
      "Total exposure time (hrs): 4733.21\n",
      "\n",
      "Bright dusk:     0.00 \n",
      "Dusk:            4729.32\n",
      "Bright Night:    3.89 \n",
      "Dawn:            0.00 \n",
      "Bright dawn:     0.00 \n",
      "Sum:             4733.21\n",
      "\n",
      "Fractions of total bright time in twilight:\n",
      "Bright twilight: 0.000000\n",
      "Normal twilight: 0.999177\n",
      "Example bright night exposure:\n"
     ]
    },
    {
     "data": {
      "text/html": [
       "&lt;Row index=0&gt;\n",
       "<table id=\"table47147368893744\">\n",
       "<thead><tr><th>tileid</th><th>pass</th><th>ra</th><th>dec</th><th>ebmv</th><th>night</th><th>mjd</th><th>exptime</th><th>seeing</th><th>transparency</th><th>airmass</th><th>moonfrac</th><th>moonalt</th><th>moonsep</th></tr></thead>\n",
       "<thead><tr><th></th><th></th><th></th><th></th><th></th><th></th><th></th><th>s</th><th>arcsec</th><th></th><th></th><th></th><th>deg</th><th>deg</th></tr></thead>\n",
       "<thead><tr><th>int32</th><th>int16</th><th>float64</th><th>float64</th><th>float32</th><th>str10</th><th>float64</th><th>float64</th><th>float64</th><th>float64</th><th>float64</th><th>float64</th><th>float64</th><th>float64</th></tr></thead>\n",
       "<tr><td>26417</td><td>4</td><td>96.95</td><td>52.24</td><td>0.12174</td><td>2020-01-03</td><td>58852.1728585</td><td>1180.36543165</td><td>1.11651992798</td><td>0.989724338055</td><td>1.26194685517</td><td>0.60504166833</td><td>50.8251109735</td><td>76.6021621986</td></tr>\n",
       "</table>"
      ],
      "text/plain": [
       "<Row index=0>\n",
       "tileid  pass    ra     dec     ebmv    night         mjd         exptime        seeing     transparency     airmass       moonfrac      moonalt       moonsep   \n",
       "                                                                    s           arcsec                                                    deg           deg     \n",
       "int32  int16 float64 float64 float32   str10       float64       float64       float64       float64        float64       float64       float64       float64   \n",
       "------ ----- ------- ------- ------- ---------- ------------- ------------- ------------- -------------- ------------- ------------- ------------- -------------\n",
       " 26417     4   96.95   52.24 0.12174 2020-01-03 58852.1728585 1180.36543165 1.11651992798 0.989724338055 1.26194685517 0.60504166833 50.8251109735 76.6021621986"
      ]
     },
     "execution_count": 94,
     "metadata": {},
     "output_type": "execute_result"
    }
   ],
   "source": [
    "exposures_dark = Table.read(\"{topdir}/survey/exposures_dark.fits\".format(topdir=topdir))\n",
    "report_bright_exposures(exposures_dark,our_ephem)"
   ]
  },
  {
   "cell_type": "code",
   "execution_count": 95,
   "metadata": {
    "collapsed": false
   },
   "outputs": [
    {
     "name": "stdout",
     "output_type": "stream",
     "text": [
      "Total exposure time (hrs): 5874.63\n",
      "\n",
      "Bright dusk:     85.57\n",
      "Dusk:            5092.27\n",
      "Bright Night:    696.79\n",
      "Dawn:            11.31\n",
      "Bright dawn:     0.00 \n",
      "Sum:             5874.63\n",
      "\n",
      "Fractions of total bright time in twilight:\n",
      "Bright twilight: 0.014566\n",
      "Normal twilight: 0.866823\n",
      "Example bright night exposure:\n"
     ]
    },
    {
     "data": {
      "text/html": [
       "&lt;Row index=0&gt;\n",
       "<table id=\"table47147400260576\">\n",
       "<thead><tr><th>tileid</th><th>pass</th><th>ra</th><th>dec</th><th>ebmv</th><th>night</th><th>mjd</th><th>exptime</th><th>seeing</th><th>transparency</th><th>airmass</th><th>moonfrac</th><th>moonalt</th><th>moonsep</th></tr></thead>\n",
       "<thead><tr><th></th><th></th><th></th><th></th><th></th><th></th><th></th><th>s</th><th>arcsec</th><th></th><th></th><th></th><th>deg</th><th>deg</th></tr></thead>\n",
       "<thead><tr><th>int32</th><th>int16</th><th>float64</th><th>float64</th><th>float32</th><th>str10</th><th>float64</th><th>float64</th><th>float64</th><th>float64</th><th>float64</th><th>float64</th><th>float64</th><th>float64</th></tr></thead>\n",
       "<tr><td>29328</td><td>5</td><td>310.82</td><td>3.13</td><td>0.100719</td><td>2019-12-05</td><td>58823.0691707</td><td>1155.3161807</td><td>1.08484399319</td><td>0.952788949013</td><td>1.40384973915</td><td>0.686054301478</td><td>50.1931863269</td><td>54.6094808007</td></tr>\n",
       "</table>"
      ],
      "text/plain": [
       "<Row index=0>\n",
       "tileid  pass    ra     dec     ebmv     night         mjd        exptime        seeing     transparency     airmass       moonfrac       moonalt       moonsep   \n",
       "                                                                    s           arcsec                                                     deg           deg     \n",
       "int32  int16 float64 float64 float32    str10       float64      float64       float64       float64        float64       float64        float64       float64   \n",
       "------ ----- ------- ------- -------- ---------- ------------- ------------ ------------- -------------- ------------- -------------- ------------- -------------\n",
       " 29328     5  310.82    3.13 0.100719 2019-12-05 58823.0691707 1155.3161807 1.08484399319 0.952788949013 1.40384973915 0.686054301478 50.1931863269 54.6094808007"
      ]
     },
     "execution_count": 95,
     "metadata": {},
     "output_type": "execute_result"
    }
   ],
   "source": [
    "exposures_all = Table.read(\"{topdir}/survey/exposures.fits\".format(topdir=topdir))\n",
    "report_bright_exposures(exposures_all,our_ephem)"
   ]
  },
  {
   "cell_type": "markdown",
   "metadata": {},
   "source": [
    "Numbers in documents are 450-500 hours/year"
   ]
  },
  {
   "cell_type": "code",
   "execution_count": 77,
   "metadata": {
    "collapsed": false
   },
   "outputs": [
    {
     "data": {
      "text/plain": [
       "2250"
      ]
     },
     "execution_count": 77,
     "metadata": {},
     "output_type": "execute_result"
    }
   ],
   "source": [
    "450*5"
   ]
  },
  {
   "cell_type": "code",
   "execution_count": 103,
   "metadata": {
    "collapsed": false
   },
   "outputs": [],
   "source": [
    "tiles = Table.read('{topdir}/targets/dark/all_tiles.fits'.format(topdir=topdir))"
   ]
  },
  {
   "cell_type": "code",
   "execution_count": 106,
   "metadata": {
    "collapsed": false
   },
   "outputs": [
    {
     "data": {
      "text/html": [
       "&lt;Table length=3&gt;\n",
       "<table id=\"table47147400590112\" class=\"table-striped table-bordered table-condensed\">\n",
       "<thead><tr><th>TILEID</th><th>RA</th><th>DEC</th><th>PASS</th><th>IN_DESI</th><th>EBV_MED</th><th>AIRMASS</th><th>STAR_DENSITY</th><th>EXPOSEFAC</th><th>PROGRAM</th><th>OBSCONDITIONS</th></tr></thead>\n",
       "<thead><tr><th>int32</th><th>float64</th><th>float64</th><th>int16</th><th>int16</th><th>float32</th><th>float32</th><th>float32</th><th>float32</th><th>str6</th><th>int32</th></tr></thead>\n",
       "<tr><td>4</td><td>335.03</td><td>19.88</td><td>0</td><td>1</td><td>0.0515615</td><td>1.05189</td><td>3973.28</td><td>1.45784</td><td>DARK</td><td>1</td></tr>\n",
       "<tr><td>6</td><td>333.22</td><td>14.84</td><td>0</td><td>1</td><td>0.0612336</td><td>1.07788</td><td>3629.73</td><td>1.59411</td><td>DARK</td><td>1</td></tr>\n",
       "<tr><td>7</td><td>332.35</td><td>12.32</td><td>0</td><td>1</td><td>0.0744952</td><td>1.0946</td><td>3596.16</td><td>1.76162</td><td>DARK</td><td>1</td></tr>\n",
       "</table>"
      ],
      "text/plain": [
       "<Table length=3>\n",
       "TILEID    RA     DEC    PASS ... STAR_DENSITY EXPOSEFAC PROGRAM OBSCONDITIONS\n",
       "int32  float64 float64 int16 ...   float32     float32    str6      int32    \n",
       "------ ------- ------- ----- ... ------------ --------- ------- -------------\n",
       "     4  335.03   19.88     0 ...      3973.28   1.45784    DARK             1\n",
       "     6  333.22   14.84     0 ...      3629.73   1.59411    DARK             1\n",
       "     7  332.35   12.32     0 ...      3596.16   1.76162    DARK             1"
      ]
     },
     "execution_count": 106,
     "metadata": {},
     "output_type": "execute_result"
    }
   ],
   "source": [
    "tiles[0:3]"
   ]
  },
  {
   "cell_type": "code",
   "execution_count": 108,
   "metadata": {
    "collapsed": false
   },
   "outputs": [
    {
     "data": {
      "text/html": [
       "&lt;Table length=1&gt;\n",
       "<table id=\"table47147400628880\" class=\"table-striped table-bordered table-condensed\">\n",
       "<thead><tr><th>TILEID</th><th>RA</th><th>DEC</th><th>PASS</th><th>IN_DESI</th><th>EBV_MED</th><th>AIRMASS</th><th>STAR_DENSITY</th><th>EXPOSEFAC</th><th>PROGRAM</th><th>OBSCONDITIONS</th></tr></thead>\n",
       "<thead><tr><th>int32</th><th>float64</th><th>float64</th><th>int16</th><th>int16</th><th>float32</th><th>float32</th><th>float32</th><th>float32</th><th>str6</th><th>int32</th></tr></thead>\n",
       "<tr><td>26417</td><td>96.95</td><td>52.24</td><td>4</td><td>1</td><td>0.12174</td><td>1.08659</td><td>5954.76</td><td>2.32685</td><td>GRAY</td><td>2</td></tr>\n",
       "</table>"
      ],
      "text/plain": [
       "<Table length=1>\n",
       "TILEID    RA     DEC    PASS ... STAR_DENSITY EXPOSEFAC PROGRAM OBSCONDITIONS\n",
       "int32  float64 float64 int16 ...   float32     float32    str6      int32    \n",
       "------ ------- ------- ----- ... ------------ --------- ------- -------------\n",
       " 26417   96.95   52.24     4 ...      5954.76   2.32685    GRAY             2"
      ]
     },
     "execution_count": 108,
     "metadata": {},
     "output_type": "execute_result"
    }
   ],
   "source": [
    "tiles[np.flatnonzero(tiles['TILEID'] == 26417)]"
   ]
  },
  {
   "cell_type": "markdown",
   "metadata": {},
   "source": [
    "## Weather"
   ]
  },
  {
   "cell_type": "code",
   "execution_count": 25,
   "metadata": {
    "collapsed": false
   },
   "outputs": [
    {
     "data": {
      "image/png": "[encoded data removed]",
      "text/plain": [
       "<matplotlib.figure.Figure at 0x2ae15905deb8>"
      ]
     },
     "metadata": {},
     "output_type": "display_data"
    }
   ],
   "source": [
    "plt.hist(exposures['transparency'],bins=np.linspace(0,1,30),alpha=0.5,normed=True);\n",
    "plt.hist(exposures['seeing'],bins=np.linspace(0,1,30),alpha=0.5,normed=True);\n",
    "plt.grid()"
   ]
  },
  {
   "cell_type": "markdown",
   "metadata": {},
   "source": [
    "## Exposure times"
   ]
  },
  {
   "cell_type": "code",
   "execution_count": 27,
   "metadata": {
    "collapsed": false
   },
   "outputs": [
    {
     "data": {
      "text/html": [
       "&lt;Table length=2&gt;\n",
       "<table id=\"table47147359737448\" class=\"table-striped table-bordered table-condensed\">\n",
       "<thead><tr><th>tileid</th><th>pass</th><th>ra</th><th>dec</th><th>ebmv</th><th>night</th><th>mjd</th><th>exptime</th><th>seeing</th><th>transparency</th><th>airmass</th><th>moonfrac</th><th>moonalt</th><th>moonsep</th></tr></thead>\n",
       "<thead><tr><th></th><th></th><th></th><th></th><th></th><th></th><th></th><th>s</th><th>arcsec</th><th></th><th></th><th></th><th>deg</th><th>deg</th></tr></thead>\n",
       "<thead><tr><th>int32</th><th>int16</th><th>float64</th><th>float64</th><th>float32</th><th>str10</th><th>float64</th><th>float64</th><th>float64</th><th>float64</th><th>float64</th><th>float64</th><th>float64</th><th>float64</th></tr></thead>\n",
       "<tr><td>34308</td><td>5</td><td>345.64</td><td>25.37</td><td>0.145557</td><td>2019-12-01</td><td>58819.0583701</td><td>686.255885087</td><td>0.993969678879</td><td>0.965001940727</td><td>1.01068331726</td><td>0.315489669913</td><td>34.1941411183</td><td>52.6531193026</td></tr>\n",
       "<tr><td>33066</td><td>5</td><td>46.0</td><td>3.15</td><td>0.102859</td><td>2019-12-01</td><td>58819.2888944</td><td>879.862865864</td><td>0.976047694683</td><td>0.385159164667</td><td>1.18755670794</td><td>0.315489669913</td><td>-19.7502717695</td><td>86.767483742</td></tr>\n",
       "</table>"
      ],
      "text/plain": [
       "<Table length=2>\n",
       "tileid  pass    ra     dec   ...    moonfrac       moonalt        moonsep   \n",
       "                             ...                     deg            deg     \n",
       "int32  int16 float64 float64 ...    float64        float64        float64   \n",
       "------ ----- ------- ------- ... -------------- -------------- -------------\n",
       " 34308     5  345.64   25.37 ... 0.315489669913  34.1941411183 52.6531193026\n",
       " 33066     5    46.0    3.15 ... 0.315489669913 -19.7502717695  86.767483742"
      ]
     },
     "execution_count": 27,
     "metadata": {},
     "output_type": "execute_result"
    }
   ],
   "source": [
    "exposures[0:2]"
   ]
  },
  {
   "cell_type": "code",
   "execution_count": 28,
   "metadata": {
    "collapsed": false
   },
   "outputs": [
    {
     "data": {
      "image/png": "[encoded data removed]",
      "text/plain": [
       "<matplotlib.figure.Figure at 0x2ae1599b2470>"
      ]
     },
     "metadata": {},
     "output_type": "display_data"
    }
   ],
   "source": [
    "plt.hist(exposures['exptime'],bins=np.arange(0,2000,100))\n",
    "plt.text(0.7,0.9,'%d exposures'%(len(exposures)),transform=plt.gca().transAxes)\n",
    "percentiles = np.percentile(exposures['exptime'],[10,50,90])\n",
    "plt.axvline(percentiles[0],c='k',ls=':')\n",
    "plt.axvline(percentiles[1],c='k',ls='solid')\n",
    "plt.axvline(percentiles[2],c='k',ls=':')\n",
    "plt.xlabel('Exp. time (s)')\n",
    "plt.ylabel('N')\n",
    "plt.title('Exposure time distribution');"
   ]
  },
  {
   "cell_type": "code",
   "execution_count": 29,
   "metadata": {
    "collapsed": false
   },
   "outputs": [
    {
     "data": {
      "text/html": [
       "&lt;Table length=5&gt;\n",
       "<table id=\"table47147349412832\" class=\"table-striped table-bordered table-condensed\">\n",
       "<thead><tr><th>tileid</th><th>ra</th><th>dec</th><th>pass</th><th>priority</th><th>hourangle</th><th>covered</th><th>available</th></tr></thead>\n",
       "<thead><tr><th>int32</th><th>float64</th><th>float64</th><th>int16</th><th>float64</th><th>float64</th><th>int64</th><th>bool</th></tr></thead>\n",
       "<tr><td>4</td><td>335.03</td><td>19.88</td><td>0</td><td>1.09507142857</td><td>-4.13891586268</td><td>-1</td><td>True</td></tr>\n",
       "<tr><td>6</td><td>333.22</td><td>14.84</td><td>0</td><td>1.13107142857</td><td>-5.14379275346</td><td>-1</td><td>True</td></tr>\n",
       "<tr><td>7</td><td>332.35</td><td>12.32</td><td>0</td><td>1.14907142857</td><td>-6.75987702507</td><td>-1</td><td>True</td></tr>\n",
       "<tr><td>8</td><td>319.9</td><td>6.05</td><td>0</td><td>1.19385714286</td><td>-11.1294985935</td><td>-1</td><td>True</td></tr>\n",
       "<tr><td>9</td><td>330.67</td><td>7.31</td><td>0</td><td>1.18485714286</td><td>-6.882876307</td><td>-1</td><td>True</td></tr>\n",
       "</table>"
      ],
      "text/plain": [
       "<Table length=5>\n",
       "tileid    ra     dec    pass    priority     hourangle    covered available\n",
       "int32  float64 float64 int16    float64       float64      int64     bool  \n",
       "------ ------- ------- ----- ------------- -------------- ------- ---------\n",
       "     4  335.03   19.88     0 1.09507142857 -4.13891586268      -1      True\n",
       "     6  333.22   14.84     0 1.13107142857 -5.14379275346      -1      True\n",
       "     7  332.35   12.32     0 1.14907142857 -6.75987702507      -1      True\n",
       "     8   319.9    6.05     0 1.19385714286 -11.1294985935      -1      True\n",
       "     9  330.67    7.31     0 1.18485714286   -6.882876307      -1      True"
      ]
     },
     "execution_count": 29,
     "metadata": {},
     "output_type": "execute_result"
    }
   ],
   "source": [
    "plan[0:5]"
   ]
  },
  {
   "cell_type": "code",
   "execution_count": 30,
   "metadata": {
    "collapsed": false
   },
   "outputs": [
    {
     "data": {
      "text/html": [
       "&lt;Table length=5&gt;\n",
       "<table id=\"table47147359738288\" class=\"table-striped table-bordered table-condensed\">\n",
       "<thead><tr><th>mjd</th><th>open</th><th>seeing</th><th>transparency</th></tr></thead>\n",
       "<thead><tr><th>float64</th><th>bool</th><th>float32</th><th>float32</th></tr></thead>\n",
       "<tr><td>58818.7916667</td><td>True</td><td>1.81396</td><td>0.961685</td></tr>\n",
       "<tr><td>58818.7951389</td><td>True</td><td>1.61929</td><td>0.951094</td></tr>\n",
       "<tr><td>58818.7986111</td><td>True</td><td>1.47662</td><td>0.967999</td></tr>\n",
       "<tr><td>58818.8020833</td><td>True</td><td>1.92816</td><td>0.98349</td></tr>\n",
       "<tr><td>58818.8055556</td><td>True</td><td>1.52703</td><td>0.945346</td></tr>\n",
       "</table>"
      ],
      "text/plain": [
       "<Table length=5>\n",
       "     mjd      open  seeing transparency\n",
       "   float64    bool float32   float32   \n",
       "------------- ---- ------- ------------\n",
       "58818.7916667 True 1.81396     0.961685\n",
       "58818.7951389 True 1.61929     0.951094\n",
       "58818.7986111 True 1.47662     0.967999\n",
       "58818.8020833 True 1.92816      0.98349\n",
       "58818.8055556 True 1.52703     0.945346"
      ]
     },
     "execution_count": 30,
     "metadata": {},
     "output_type": "execute_result"
    }
   ],
   "source": [
    "weather[0:5]"
   ]
  },
  {
   "cell_type": "markdown",
   "metadata": {},
   "source": [
    "# Targets"
   ]
  },
  {
   "cell_type": "code",
   "execution_count": 31,
   "metadata": {
    "collapsed": false
   },
   "outputs": [
    {
     "name": "stdout",
     "output_type": "stream",
     "text": [
      "\u001b[0m\u001b[01;32mstandards-bright-4-53.fits\u001b[0m*  \u001b[01;32mtargets-4-53.fits\u001b[0m*\r\n",
      "\u001b[01;32mstandards-dark-4-53.fits\u001b[0m*    \u001b[01;32mtruth-4-53.fits\u001b[0m*\r\n"
     ]
    }
   ],
   "source": [
    "ls $topdir/targets/bright/0/53"
   ]
  },
  {
   "cell_type": "code",
   "execution_count": 32,
   "metadata": {
    "collapsed": true
   },
   "outputs": [],
   "source": [
    "targets_onepix_path = '{topdir}/targets/bright/0/53/targets-4-53.fits'.format(topdir=topdir)\n",
    "targets_path        = '{topdir}/targets/bright/targets.fits'.format(topdir=topdir)"
   ]
  },
  {
   "cell_type": "code",
   "execution_count": 33,
   "metadata": {
    "collapsed": false
   },
   "outputs": [
    {
     "name": "stdout",
     "output_type": "stream",
     "text": [
      "111256 rows\n"
     ]
    }
   ],
   "source": [
    "t_onepix = Table.read(targets_onepix_path)\n",
    "print(len(t_onepix),'rows')"
   ]
  },
  {
   "cell_type": "code",
   "execution_count": 34,
   "metadata": {
    "collapsed": false
   },
   "outputs": [
    {
     "data": {
      "text/html": [
       "&lt;Table length=3&gt;\n",
       "<table id=\"table47147359052856\" class=\"table-striped table-bordered table-condensed\">\n",
       "<thead><tr><th>BRICKID</th><th>BRICKNAME</th><th>BRICK_OBJID</th><th>RA</th><th>DEC</th><th>FLUX_G</th><th>FLUX_R</th><th>FLUX_Z</th><th>FLUX_W1</th><th>FLUX_W2</th><th>SHAPEEXP_R</th><th>SHAPEEXP_E1</th><th>SHAPEEXP_E2</th><th>SHAPEDEV_R</th><th>SHAPEDEV_E1</th><th>SHAPEDEV_E2</th><th>PSFDEPTH_G</th><th>PSFDEPTH_R</th><th>PSFDEPTH_Z</th><th>GALDEPTH_G</th><th>GALDEPTH_R</th><th>GALDEPTH_Z</th><th>MW_TRANSMISSION_G</th><th>MW_TRANSMISSION_R</th><th>MW_TRANSMISSION_Z</th><th>MW_TRANSMISSION_W1</th><th>MW_TRANSMISSION_W2</th><th>TARGETID</th><th>DESI_TARGET</th><th>BGS_TARGET</th><th>MWS_TARGET</th><th>HPXPIXEL</th><th>SUBPRIORITY</th><th>OBSCONDITIONS</th></tr></thead>\n",
       "<thead><tr><th>int32</th><th>str8</th><th>int32</th><th>float64</th><th>float64</th><th>float32</th><th>float32</th><th>float32</th><th>float32</th><th>float32</th><th>float32</th><th>float32</th><th>float32</th><th>float32</th><th>float32</th><th>float32</th><th>float32</th><th>float32</th><th>float32</th><th>float32</th><th>float32</th><th>float32</th><th>float32</th><th>float32</th><th>float32</th><th>float32</th><th>float32</th><th>int64</th><th>int64</th><th>int64</th><th>int64</th><th>int64</th><th>float64</th><th>int64</th></tr></thead>\n",
       "<tr><td>0</td><td>3460p337</td><td>0</td><td>345.95880127</td><td>33.7933959961</td><td>4.38655</td><td>11.1833</td><td>0.0</td><td>0.0</td><td>0.0</td><td>0.0</td><td>0.0</td><td>0.0</td><td>0.0</td><td>0.0</td><td>0.0</td><td>0.0</td><td>0.0</td><td>0.0</td><td>0.0</td><td>0.0</td><td>0.0</td><td>0.724577</td><td>0.804916</td><td>0.884802</td><td>0.981725</td><td>0.988737</td><td>288230376374009856</td><td>1152921504606846976</td><td>65537</td><td>0</td><td>53</td><td>0.00959843053743</td><td>7</td></tr>\n",
       "<tr><td>0</td><td>3469p340</td><td>0</td><td>347.010406494</td><td>34.1110343933</td><td>19.19</td><td>25.5279</td><td>0.0</td><td>0.0</td><td>0.0</td><td>0.0</td><td>0.0</td><td>0.0</td><td>0.0</td><td>0.0</td><td>0.0</td><td>0.0</td><td>0.0</td><td>0.0</td><td>0.0</td><td>0.0</td><td>0.0</td><td>0.77606</td><td>0.843008</td><td>0.908178</td><td>0.985591</td><td>0.991126</td><td>288230376374009857</td><td>1152921504606846976</td><td>131074</td><td>0</td><td>53</td><td>0.969758559448</td><td>4</td></tr>\n",
       "<tr><td>0</td><td>3484p340</td><td>0</td><td>348.460510254</td><td>34.0122909546</td><td>10.9261</td><td>16.2791</td><td>0.0</td><td>0.0</td><td>0.0</td><td>0.0</td><td>0.0</td><td>0.0</td><td>0.0</td><td>0.0</td><td>0.0</td><td>0.0</td><td>0.0</td><td>0.0</td><td>0.0</td><td>0.0</td><td>0.0</td><td>0.829251</td><td>0.881507</td><td>0.931341</td><td>0.989338</td><td>0.993439</td><td>288230376374009858</td><td>1152921504606846976</td><td>131074</td><td>0</td><td>53</td><td>0.984668125654</td><td>4</td></tr>\n",
       "</table>"
      ],
      "text/plain": [
       "<Table length=3>\n",
       "BRICKID BRICKNAME BRICK_OBJID ... HPXPIXEL   SUBPRIORITY    OBSCONDITIONS\n",
       " int32     str8      int32    ...  int64       float64          int64    \n",
       "------- --------- ----------- ... -------- ---------------- -------------\n",
       "      0  3460p337           0 ...       53 0.00959843053743             7\n",
       "      0  3469p340           0 ...       53   0.969758559448             4\n",
       "      0  3484p340           0 ...       53   0.984668125654             4"
      ]
     },
     "execution_count": 34,
     "metadata": {},
     "output_type": "execute_result"
    }
   ],
   "source": [
    "t_onepix[0:3]"
   ]
  },
  {
   "cell_type": "markdown",
   "metadata": {},
   "source": [
    "## Confusion of BGS and MWS targets"
   ]
  },
  {
   "cell_type": "code",
   "execution_count": 35,
   "metadata": {
    "collapsed": true
   },
   "outputs": [],
   "source": [
    "odd = np.where(t_onepix['BGS_TARGET'] & t_onepix['MWS_TARGET'])"
   ]
  },
  {
   "cell_type": "code",
   "execution_count": 110,
   "metadata": {
    "collapsed": false
   },
   "outputs": [
    {
     "name": "stdout",
     "output_type": "stream",
     "text": [
      "BGS_TARGET\n",
      "----------\n",
      "     65537\n",
      "MWS_TARGET\n",
      "----------\n",
      "     65536\n",
      "    DESI_TARGET    \n",
      "-------------------\n",
      "3458764513820540928\n",
      "OBSCONDITIONS\n",
      "-------------\n",
      "            7\n",
      "15.8461\n"
     ]
    }
   ],
   "source": [
    "print(np.unique(t_onepix[odd]['BGS_TARGET']))\n",
    "print(np.unique(t_onepix[odd]['MWS_TARGET']))\n",
    "print(np.unique(t_onepix[odd]['DESI_TARGET']))\n",
    "print(np.unique(t_onepix[odd]['OBSCONDITIONS']))"
   ]
  },
  {
   "cell_type": "code",
   "execution_count": 112,
   "metadata": {
    "collapsed": false
   },
   "outputs": [
    {
     "name": "stdout",
     "output_type": "stream",
     "text": [
      "15.8461\n"
     ]
    }
   ],
   "source": [
    "print(np.max(t_onepix[odd]['FLUX_R']))"
   ]
  },
  {
   "cell_type": "code",
   "execution_count": 48,
   "metadata": {
    "collapsed": false
   },
   "outputs": [
    {
     "data": {
      "text/plain": [
       "(288230376374033789, 288230376374120679)"
      ]
     },
     "execution_count": 48,
     "metadata": {},
     "output_type": "execute_result"
    }
   ],
   "source": [
    "t_onepix['TARGETID'][odd].min(), t_onepix['TARGETID'][odd].max()"
   ]
  },
  {
   "cell_type": "code",
   "execution_count": 37,
   "metadata": {
    "collapsed": false
   },
   "outputs": [
    {
     "data": {
      "text/plain": [
       "['BGS_FAINT', 'BGS_FAINT_SOUTH']"
      ]
     },
     "execution_count": 37,
     "metadata": {},
     "output_type": "execute_result"
    }
   ],
   "source": [
    "bgs_mask.names(65537)"
   ]
  },
  {
   "cell_type": "code",
   "execution_count": 38,
   "metadata": {
    "collapsed": false
   },
   "outputs": [
    {
     "data": {
      "text/plain": [
       "['MWS_MAIN_VERY_FAINT']"
      ]
     },
     "execution_count": 38,
     "metadata": {},
     "output_type": "execute_result"
    }
   ],
   "source": [
    "mws_mask.names(65536)"
   ]
  },
  {
   "cell_type": "code",
   "execution_count": 41,
   "metadata": {
    "collapsed": false
   },
   "outputs": [
    {
     "data": {
      "text/plain": [
       "['BGS_ANY', 'MWS_ANY']"
      ]
     },
     "execution_count": 41,
     "metadata": {},
     "output_type": "execute_result"
    }
   ],
   "source": [
    "desi_mask.names(3458764513820540928)"
   ]
  },
  {
   "cell_type": "code",
   "execution_count": 52,
   "metadata": {
    "collapsed": false
   },
   "outputs": [
    {
     "data": {
      "text/plain": [
       "(array([222298112], dtype=uint64), array([0], dtype=uint64))"
      ]
     },
     "execution_count": 52,
     "metadata": {},
     "output_type": "execute_result"
    }
   ],
   "source": [
    "import desitarget\n",
    "import desitarget.mock.io\n",
    "desitarget.mock.io.decode_rownum_filenum(np.array([288230376374009856]))"
   ]
  },
  {
   "cell_type": "code",
   "execution_count": 60,
   "metadata": {
    "collapsed": false
   },
   "outputs": [
    {
     "name": "stdout",
     "output_type": "stream",
     "text": [
      "dust_dir: /project/projectdirs/desi/software/edison/dust/v0_1/maps\r\n",
      "decals_brick_info: /project/projectdirs/desi/target/catalogs/brick-info-dr3.v0.0.1.fits\r\n",
      "sources:\r\n",
      "    BGS: {\r\n",
      "        target_name: BGS,\r\n",
      "        mock_dir_name: /project/projectdirs/desi/mocks/bgs/MXXL/desi_footprint/v0.0.4/BGS.hdf5,\r\n",
      "        format: durham_mxxl_hdf5,\r\n",
      "        magcut: 20.3,\r\n",
      "        contam: {\r\n",
      "            STAR: 50,\r\n",
      "        }\r\n",
      "    }\r\n",
      "    FAINTSTAR: {\r\n",
      "        target_name: FAINTSTAR,\r\n",
      "        mock_dir_name: /project/projectdirs/desi/mocks/mws/galaxia/alpha/0.0.4_superfaint,\r\n",
      "        format: galaxia,\r\n",
      "        magcut: 23.5,\r\n",
      "    }\r\n",
      "    MWS_MAIN: {\r\n",
      "        target_name: MWS_MAIN,\r\n",
      "        mock_dir_name: /project/projectdirs/desi/mocks/mws/galaxia/alpha/v0.0.4,\r\n",
      "        format: galaxia,\r\n",
      "    }\r\n",
      "    MWS_NEARBY: {\r\n",
      "        target_name: MWS_NEARBY,\r\n",
      "        mock_dir_name: /project/projectdirs/desi/mocks/mws/100pc/v0.0.3/mock_100pc.fits,\r\n",
      "        format: 100pc,\r\n",
      "    }\r\n",
      "    MWS_WD: {\r\n",
      "        target_name: MWS_WD,\r\n",
      "        mock_dir_name: /project/projectdirs/desi/mocks/mws/wd/v0.0.2/mock_wd.fits,\r\n",
      "        format: wd,\r\n",
      "    }\r\n",
      "    SKY: {\r\n",
      "        target_name: SKY,\r\n",
      "        mock_dir_name: /project/projectdirs/desi/mocks/GaussianRandomField/v0.0.1/2048/random.fits,\r\n",
      "        format: gaussianfield,\r\n",
      "        density: 1400,\r\n",
      "    }\r\n"
     ]
    }
   ],
   "source": [
    "!cat $topdir/targets/bright/select-mock-targets-bright.yaml"
   ]
  },
  {
   "cell_type": "code",
   "execution_count": 109,
   "metadata": {
    "collapsed": false
   },
   "outputs": [
    {
     "data": {
      "text/plain": [
       "['DARK', 'GRAY', 'BRIGHT']"
      ]
     },
     "execution_count": 109,
     "metadata": {},
     "output_type": "execute_result"
    }
   ],
   "source": [
    "desitarget.obsconditions.names(7)"
   ]
  },
  {
   "cell_type": "code",
   "execution_count": null,
   "metadata": {
    "collapsed": true
   },
   "outputs": [],
   "source": []
  }
 ],
 "metadata": {
  "anaconda-cloud": {},
  "kernelspec": {
   "display_name": "DESI 17.6",
   "language": "python",
   "name": "desi-17.6"
  },
  "language_info": {
   "codemirror_mode": {
    "name": "ipython",
    "version": 3
   },
   "file_extension": ".py",
   "mimetype": "text/x-python",
   "name": "python",
   "nbconvert_exporter": "python",
   "pygments_lexer": "ipython3",
   "version": "3.5.3"
  }
 },
 "nbformat": 4,
 "nbformat_minor": 0
}
